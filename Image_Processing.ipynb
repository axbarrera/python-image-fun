{
 "cells": [
  {
   "cell_type": "code",
   "execution_count": 58,
   "metadata": {},
   "outputs": [],
   "source": [
    "from PIL import Image, ImageFilter, ImageEnhance\n"
   ]
  },
  {
   "cell_type": "code",
   "execution_count": 59,
   "metadata": {},
   "outputs": [],
   "source": [
    "# read image\n",
    "filehandle = 'jeans.jpg'\n",
    "im = Image.open(filehandle)"
   ]
  },
  {
   "cell_type": "code",
   "execution_count": 60,
   "metadata": {},
   "outputs": [],
   "source": [
    "#display image\n",
    "im.show()"
   ]
  },
  {
   "cell_type": "code",
   "execution_count": 61,
   "metadata": {},
   "outputs": [],
   "source": [
    "#Applying a filter to the image\n",
    "im_sharp = im.filter( ImageFilter.SHARPEN )\n",
    "im_sharp = im_sharp.filter( ImageFilter.SHARPEN )\n",
    "# im_sharp = im_sharp.filter( ImageFilter.SHARPEN )\n",
    "# im_sharp = im_sharp.filter( ImageFilter.SHARPEN )\n",
    "\n",
    "im_sharp.show()"
   ]
  },
  {
   "cell_type": "code",
   "execution_count": 62,
   "metadata": {},
   "outputs": [],
   "source": [
    "#Applying a blur filter to the image\n",
    "# im_sharp = im.filter( ImageFilter.SHARPEN )\n",
    "im_emboss = im.filter(ImageFilter.EMBOSS)\n",
    "im_emboss.show()"
   ]
  },
  {
   "cell_type": "code",
   "execution_count": 63,
   "metadata": {},
   "outputs": [],
   "source": [
    "#Applying a filter to the image\n",
    "im_edge_enhance = im.filter(ImageFilter.EDGE_ENHANCE)\n",
    "im_edge_enhance.show()"
   ]
  },
  {
   "cell_type": "code",
   "execution_count": 64,
   "metadata": {},
   "outputs": [],
   "source": [
    "#Applying a filter to the image\n",
    "im_smooth = im.filter(ImageFilter.SMOOTH)\n",
    "im_smooth.show()"
   ]
  },
  {
   "cell_type": "code",
   "execution_count": 65,
   "metadata": {},
   "outputs": [],
   "source": [
    "#Applying a filter to the image\n",
    "im_smooth_more = im.filter(ImageFilter.SMOOTH_MORE)\n",
    "im_smooth_more.show()"
   ]
  },
  {
   "cell_type": "code",
   "execution_count": 66,
   "metadata": {},
   "outputs": [],
   "source": [
    "#Applying a filter to the image\n",
    "im_detail = im.filter(ImageFilter.DETAIL)\n",
    "im_detail.show()"
   ]
  },
  {
   "cell_type": "code",
   "execution_count": 68,
   "metadata": {},
   "outputs": [],
   "source": [
    "#Applying a filter to the image\n",
    "im_edge_enhance_more = im.filter(ImageFilter.EDGE_ENHANCE_MORE)\n",
    "im_edge_enhance_more.show()"
   ]
  },
  {
   "cell_type": "code",
   "execution_count": 69,
   "metadata": {},
   "outputs": [],
   "source": [
    "#Applying a filter to the image\n",
    "im_find_edges = im.filter(ImageFilter.FIND_EDGES)\n",
    "im_find_edges.show()"
   ]
  },
  {
   "cell_type": "code",
   "execution_count": 70,
   "metadata": {},
   "outputs": [],
   "source": [
    "#Applying a filter to the image\n",
    "im_contour = im.filter(ImageFilter.CONTOUR)\n",
    "im_contour.show()"
   ]
  },
  {
   "cell_type": "code",
   "execution_count": 23,
   "metadata": {},
   "outputs": [],
   "source": []
  },
  {
   "cell_type": "code",
   "execution_count": 67,
   "metadata": {},
   "outputs": [],
   "source": [
    "#Saving the filtered image to a new file\n",
    "filehandle = filehandle.replace('.jpg','')\n",
    "filehandle = filehandle.replace('.jpeg','')\n",
    "# change this for edited file to save\n",
    "im_detail.save( filehandle + '_detail.jpg', 'JPEG' )"
   ]
  },
  {
   "cell_type": "code",
   "execution_count": 7,
   "metadata": {},
   "outputs": [],
   "source": [
    "#Splitting the image into its respective bands, i.e. Red, Green,\n",
    "#and Blue for RGB\n",
    "# r,g,b = im_sharp.split()"
   ]
  },
  {
   "cell_type": "code",
   "execution_count": 8,
   "metadata": {},
   "outputs": [],
   "source": [
    "# im.show()"
   ]
  },
  {
   "cell_type": "code",
   "execution_count": 71,
   "metadata": {},
   "outputs": [
    {
     "data": {
      "text/plain": [
       "{531: 1,\n",
       " 296: 2,\n",
       " 34665: 90,\n",
       " 282: (72, 1),\n",
       " 283: (72, 1),\n",
       " 36864: b'0221',\n",
       " 37121: b'\\x01\\x02\\x03\\x00',\n",
       " 40960: b'0100',\n",
       " 40961: 1,\n",
       " 40962: 600,\n",
       " 40963: 800,\n",
       " 41990: 0}"
      ]
     },
     "execution_count": 71,
     "metadata": {},
     "output_type": "execute_result"
    }
   ],
   "source": [
    "#Viewing EXIF data embedded in image\n",
    "exif_data = im._getexif()\n",
    "exif_data"
   ]
  },
  {
   "cell_type": "code",
   "execution_count": 72,
   "metadata": {},
   "outputs": [],
   "source": [
    "# Enhance image - show more contrast \n",
    "enh = ImageEnhance.Contrast(im)\n",
    "enh.enhance(1.3).show(\"30% more contrast\")"
   ]
  },
  {
   "cell_type": "code",
   "execution_count": 73,
   "metadata": {},
   "outputs": [],
   "source": [
    "enh = ImageEnhance.Contrast(im)\n",
    "enh.enhance(1.5).show(\"50% more contrast\")"
   ]
  },
  {
   "cell_type": "code",
   "execution_count": 74,
   "metadata": {},
   "outputs": [],
   "source": [
    "enh = ImageEnhance.Contrast(im)\n",
    "enh.enhance(1.8).show(\"80% more contrast\")"
   ]
  },
  {
   "cell_type": "code",
   "execution_count": 75,
   "metadata": {},
   "outputs": [],
   "source": [
    "enh = ImageEnhance.Contrast(im)\n",
    "enh.enhance(2.0).show(\"100% more contrast\")"
   ]
  }
 ],
 "metadata": {
  "kernelspec": {
   "display_name": "Python [conda root]",
   "language": "python",
   "name": "conda-root-py"
  },
  "language_info": {
   "codemirror_mode": {
    "name": "ipython",
    "version": 3
   },
   "file_extension": ".py",
   "mimetype": "text/x-python",
   "name": "python",
   "nbconvert_exporter": "python",
   "pygments_lexer": "ipython3",
   "version": "3.6.5"
  }
 },
 "nbformat": 4,
 "nbformat_minor": 2
}
